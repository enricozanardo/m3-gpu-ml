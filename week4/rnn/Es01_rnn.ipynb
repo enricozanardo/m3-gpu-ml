{
 "cells": [
  {
   "cell_type": "code",
   "execution_count": 1,
   "metadata": {
    "ExecuteTime": {
     "start_time": "2023-05-29T13:57:08.478704Z",
     "end_time": "2023-05-29T13:57:12.603583Z"
    }
   },
   "outputs": [],
   "source": [
    "import pandas as pd\n",
    "from sklearn.preprocessing import StandardScaler\n",
    "from sklearn.metrics import accuracy_score\n",
    "import numpy as np\n",
    "import tensorflow as tf\n",
    "import matplotlib.pyplot as plt"
   ]
  },
  {
   "cell_type": "code",
   "execution_count": 2,
   "metadata": {
    "ExecuteTime": {
     "start_time": "2023-05-29T13:57:12.605582Z",
     "end_time": "2023-05-29T13:57:12.666602Z"
    }
   },
   "outputs": [],
   "source": [
    "data = pd.read_csv('data/datatest.txt')\n",
    "data2 = pd.read_csv('data/datatraining.txt')\n",
    "data3 = pd.read_csv('data/datatest2.txt')"
   ]
  },
  {
   "cell_type": "code",
   "execution_count": 3,
   "metadata": {
    "ExecuteTime": {
     "start_time": "2023-05-29T13:57:12.667582Z",
     "end_time": "2023-05-29T13:57:12.682586Z"
    }
   },
   "outputs": [
    {
     "name": "stdout",
     "output_type": "stream",
     "text": [
      "2015-02-02 14:19:00 2015-02-04 10:43:00\n",
      "2015-02-04 17:51:00 2015-02-10 09:33:00\n",
      "2015-02-11 14:48:00 2015-02-18 09:19:00\n"
     ]
    }
   ],
   "source": [
    "print(data.iloc[0].date, data.iloc[-1].date)\n",
    "print(data2.iloc[0].date, data2.iloc[-1].date)\n",
    "print(data3.iloc[0].date, data3.iloc[-1].date)"
   ]
  },
  {
   "cell_type": "code",
   "execution_count": 4,
   "metadata": {
    "ExecuteTime": {
     "start_time": "2023-05-29T13:57:13.560204Z",
     "end_time": "2023-05-29T13:57:13.640786Z"
    }
   },
   "outputs": [
    {
     "data": {
      "text/plain": "                     Temperature  Humidity       Light         CO2  \\\ndate                                                                 \n2015-02-02 14:19:00      23.7000    26.272  585.200000  749.200000   \n2015-02-02 14:19:59      23.7180    26.290  578.400000  760.400000   \n2015-02-02 14:21:00      23.7300    26.230  572.666667  769.666667   \n2015-02-02 14:22:00      23.7225    26.125  493.750000  774.750000   \n2015-02-02 14:23:00      23.7540    26.200  488.600000  779.000000   \n\n                     HumidityRatio  Notte  Mattina  Mezzogiorno  Pomeriggio  \\\ndate                                                                          \n2015-02-02 14:19:00       0.004764    0.0      0.0          1.0         0.0   \n2015-02-02 14:19:59       0.004773    0.0      0.0          1.0         0.0   \n2015-02-02 14:21:00       0.004765    0.0      0.0          1.0         0.0   \n2015-02-02 14:22:00       0.004744    0.0      0.0          1.0         0.0   \n2015-02-02 14:23:00       0.004767    0.0      0.0          1.0         0.0   \n\n                     Sera  Occupato  \ndate                                 \n2015-02-02 14:19:00   0.0         1  \n2015-02-02 14:19:59   0.0         1  \n2015-02-02 14:21:00   0.0         1  \n2015-02-02 14:22:00   0.0         1  \n2015-02-02 14:23:00   0.0         1  ",
      "text/html": "<div>\n<style scoped>\n    .dataframe tbody tr th:only-of-type {\n        vertical-align: middle;\n    }\n\n    .dataframe tbody tr th {\n        vertical-align: top;\n    }\n\n    .dataframe thead th {\n        text-align: right;\n    }\n</style>\n<table border=\"1\" class=\"dataframe\">\n  <thead>\n    <tr style=\"text-align: right;\">\n      <th></th>\n      <th>Temperature</th>\n      <th>Humidity</th>\n      <th>Light</th>\n      <th>CO2</th>\n      <th>HumidityRatio</th>\n      <th>Notte</th>\n      <th>Mattina</th>\n      <th>Mezzogiorno</th>\n      <th>Pomeriggio</th>\n      <th>Sera</th>\n      <th>Occupato</th>\n    </tr>\n    <tr>\n      <th>date</th>\n      <th></th>\n      <th></th>\n      <th></th>\n      <th></th>\n      <th></th>\n      <th></th>\n      <th></th>\n      <th></th>\n      <th></th>\n      <th></th>\n      <th></th>\n    </tr>\n  </thead>\n  <tbody>\n    <tr>\n      <th>2015-02-02 14:19:00</th>\n      <td>23.7000</td>\n      <td>26.272</td>\n      <td>585.200000</td>\n      <td>749.200000</td>\n      <td>0.004764</td>\n      <td>0.0</td>\n      <td>0.0</td>\n      <td>1.0</td>\n      <td>0.0</td>\n      <td>0.0</td>\n      <td>1</td>\n    </tr>\n    <tr>\n      <th>2015-02-02 14:19:59</th>\n      <td>23.7180</td>\n      <td>26.290</td>\n      <td>578.400000</td>\n      <td>760.400000</td>\n      <td>0.004773</td>\n      <td>0.0</td>\n      <td>0.0</td>\n      <td>1.0</td>\n      <td>0.0</td>\n      <td>0.0</td>\n      <td>1</td>\n    </tr>\n    <tr>\n      <th>2015-02-02 14:21:00</th>\n      <td>23.7300</td>\n      <td>26.230</td>\n      <td>572.666667</td>\n      <td>769.666667</td>\n      <td>0.004765</td>\n      <td>0.0</td>\n      <td>0.0</td>\n      <td>1.0</td>\n      <td>0.0</td>\n      <td>0.0</td>\n      <td>1</td>\n    </tr>\n    <tr>\n      <th>2015-02-02 14:22:00</th>\n      <td>23.7225</td>\n      <td>26.125</td>\n      <td>493.750000</td>\n      <td>774.750000</td>\n      <td>0.004744</td>\n      <td>0.0</td>\n      <td>0.0</td>\n      <td>1.0</td>\n      <td>0.0</td>\n      <td>0.0</td>\n      <td>1</td>\n    </tr>\n    <tr>\n      <th>2015-02-02 14:23:00</th>\n      <td>23.7540</td>\n      <td>26.200</td>\n      <td>488.600000</td>\n      <td>779.000000</td>\n      <td>0.004767</td>\n      <td>0.0</td>\n      <td>0.0</td>\n      <td>1.0</td>\n      <td>0.0</td>\n      <td>0.0</td>\n      <td>1</td>\n    </tr>\n  </tbody>\n</table>\n</div>"
     },
     "execution_count": 4,
     "metadata": {},
     "output_type": "execute_result"
    }
   ],
   "source": [
    "data_all = pd.concat([data, data2, data3])\n",
    "\n",
    "data_all['date'] = pd.to_datetime((data_all['date']))\n",
    "\n",
    "data_all['Notte'] = 0.\n",
    "data_all['Mattina'] = 0.\n",
    "data_all['Mezzogiorno'] = 0.\n",
    "data_all['Pomeriggio'] = 0.\n",
    "data_all['Sera'] = 0.\n",
    "\n",
    "data_all.loc[(data_all['date'].dt.hour < 8) | (data_all['date'].dt.hour > 21), 'Notte'] = 1.\n",
    "data_all.loc[(data_all['date'].dt.hour <= 12) & (data_all['date'].dt.hour >= 8), 'Mattina'] = 1.\n",
    "data_all.loc[(data_all['date'].dt.hour > 12) & (data_all['date'].dt.hour <= 15), 'Mezzogiorno'] = 1.\n",
    "data_all.loc[(data_all['date'].dt.hour > 15) & (data_all['date'].dt.hour <= 18), 'Pomeriggio'] = 1.\n",
    "data_all.loc[(data_all['date'].dt.hour > 18) & (data_all['date'].dt.hour <= 21), 'Sera'] = 1.\n",
    "\n",
    "data_all.drop_duplicates(inplace=True)\n",
    "\n",
    "data_all['Occupato'] = data_all['Occupancy']\n",
    "del data_all['Occupancy']\n",
    "\n",
    "data_all.set_index('date', inplace=True)\n",
    "\n",
    "data_all.head()"
   ]
  },
  {
   "cell_type": "code",
   "execution_count": 5,
   "metadata": {
    "ExecuteTime": {
     "start_time": "2023-05-29T13:57:14.733515Z",
     "end_time": "2023-05-29T13:57:14.753518Z"
    }
   },
   "outputs": [],
   "source": [
    "dataset = data_all.values"
   ]
  },
  {
   "cell_type": "code",
   "execution_count": 6,
   "metadata": {
    "ExecuteTime": {
     "start_time": "2023-05-29T13:57:15.308091Z",
     "end_time": "2023-05-29T13:57:15.347093Z"
    }
   },
   "outputs": [],
   "source": [
    "split_point = int(len(dataset) * 0.95)\n",
    "\n",
    "x_train = dataset[:split_point,:-1]\n",
    "y_train = dataset[:split_point,-1]\n",
    "\n",
    "x_test = dataset[split_point:,:-1]\n",
    "y_test = dataset[split_point:,-1]"
   ]
  },
  {
   "cell_type": "code",
   "execution_count": 7,
   "metadata": {
    "ExecuteTime": {
     "start_time": "2023-05-29T13:57:16.278468Z",
     "end_time": "2023-05-29T13:57:16.311979Z"
    }
   },
   "outputs": [],
   "source": [
    "scaler = StandardScaler()\n",
    "scaler.fit(x_train)\n",
    "\n",
    "x_train_std = scaler.transform(x_train)\n",
    "x_test_std = scaler.transform(x_test)"
   ]
  },
  {
   "cell_type": "code",
   "execution_count": 8,
   "metadata": {
    "ExecuteTime": {
     "start_time": "2023-05-29T13:57:17.513653Z",
     "end_time": "2023-05-29T13:57:17.578655Z"
    }
   },
   "outputs": [],
   "source": [
    "def get_time_series(features, labels, steps_back):\n",
    "    assert len(features) == len(labels)\n",
    "    assert steps_back > 0\n",
    "    ts_features = []\n",
    "    ts_labels = []\n",
    "    for i in range(steps_back, len(features) + 1):  # thanks Simone Truglia\n",
    "        ts_features.append(features[i - steps_back:i])\n",
    "        ts_labels.append(labels[i - 1])\n",
    "    return np.asarray(ts_features), np.asarray(ts_labels)\n",
    "\n",
    "steps_back = 60\n",
    "x_train_ts, y_train_ts = get_time_series(x_train_std, y_train, steps_back)\n",
    "x_test_ts, y_test_ts = get_time_series(x_test_std, y_test, steps_back)"
   ]
  },
  {
   "cell_type": "code",
   "execution_count": 9,
   "metadata": {
    "ExecuteTime": {
     "start_time": "2023-05-29T13:57:18.834966Z",
     "end_time": "2023-05-29T13:57:18.842992Z"
    }
   },
   "outputs": [],
   "source": [
    "assert np.all(x_train_ts[0][0] == x_train_std[0])\n",
    "assert y_train_ts[0] == y_train[steps_back]\n",
    "\n",
    "assert np.all(x_train_ts[42][0] == x_train_std[42])\n",
    "assert y_train_ts[42] == y_train[42 + steps_back]\n",
    "\n",
    "assert np.all(x_test_ts[0][0] == x_test_std[0])\n",
    "assert y_test_ts[0] == y_test[steps_back]\n",
    "\n",
    "assert np.all(x_test_ts[42][0] == x_test_std[42])\n",
    "assert y_test_ts[42] == y_test[42 + steps_back]"
   ]
  },
  {
   "cell_type": "code",
   "execution_count": 10,
   "metadata": {
    "ExecuteTime": {
     "start_time": "2023-05-29T13:57:20.276107Z",
     "end_time": "2023-05-29T13:57:24.918764Z"
    }
   },
   "outputs": [
    {
     "name": "stdout",
     "output_type": "stream",
     "text": [
      "Model: \"model\"\n",
      "_________________________________________________________________\n",
      " Layer (type)                Output Shape              Param #   \n",
      "=================================================================\n",
      " input_1 (InputLayer)        [(None, 60, 10)]          0         \n",
      "                                                                 \n",
      " simple_rnn (SimpleRNN)      (None, 4)                 60        \n",
      "                                                                 \n",
      " dense (Dense)               (None, 1)                 5         \n",
      "                                                                 \n",
      "=================================================================\n",
      "Total params: 65\n",
      "Trainable params: 65\n",
      "Non-trainable params: 0\n",
      "_________________________________________________________________\n"
     ]
    },
    {
     "data": {
      "text/plain": "\"\\ncalcolo dei parametri:\\n\\nW(input) + W'(ricorrente) + b\\n\\nW(input)      = n° features x n° celle\\nW(ricorrente) = n° celle x n° celle\\nb             = n° celle x 1\\n\\nnel nostro caso:\\nW(input)      = 10 x 4\\nW(ricorrente) = 4 x 4\\nb             = 4\\n-----------------------\\nTotale        = 40 + 16 + 4 = 60\\n\""
     },
     "execution_count": 10,
     "metadata": {},
     "output_type": "execute_result"
    }
   ],
   "source": [
    "input = tf.keras.layers.Input(shape=x_train_ts.shape[1:])\n",
    "\n",
    "rnn = tf.keras.layers.SimpleRNN(units=4, dropout=0.5)(input)\n",
    "output = tf.keras.layers.Dense(1, activation='sigmoid')(rnn)\n",
    "\n",
    "model = tf.keras.models.Model(\n",
    "    inputs=input,\n",
    "    outputs=output,\n",
    ")\n",
    "\n",
    "model.compile(\n",
    "    optimizer=tf.keras.optimizers.Adam(learning_rate=0.003),\n",
    "    loss=tf.keras.losses.MeanSquaredError(),\n",
    "    metrics=tf.keras.metrics.BinaryAccuracy()\n",
    ")\n",
    "\n",
    "model.summary()\n",
    "\n",
    "'''\n",
    "calcolo dei parametri:\n",
    "\n",
    "W(input) + W'(ricorrente) + b\n",
    "\n",
    "W(input)      = n° features x n° celle\n",
    "W(ricorrente) = n° celle x n° celle\n",
    "b             = n° celle x 1\n",
    "\n",
    "nel nostro caso:\n",
    "W(input)      = 10 x 4\n",
    "W(ricorrente) = 4 x 4\n",
    "b             = 4\n",
    "-----------------------\n",
    "Totale        = 40 + 16 + 4 = 60\n",
    "'''"
   ]
  },
  {
   "cell_type": "code",
   "execution_count": 11,
   "metadata": {
    "ExecuteTime": {
     "start_time": "2023-05-29T13:57:26.339842Z",
     "end_time": "2023-05-29T13:58:35.600165Z"
    }
   },
   "outputs": [
    {
     "name": "stdout",
     "output_type": "stream",
     "text": [
      "Epoch 1/10\n",
      "77/77 - 11s - loss: 0.2038 - binary_accuracy: 0.6909 - val_loss: 0.1407 - val_binary_accuracy: 0.8679 - 11s/epoch - 149ms/step\n",
      "Epoch 2/10\n",
      "77/77 - 7s - loss: 0.0812 - binary_accuracy: 0.8953 - val_loss: 0.3596 - val_binary_accuracy: 0.3550 - 7s/epoch - 90ms/step\n",
      "Epoch 3/10\n",
      "77/77 - 7s - loss: 0.0420 - binary_accuracy: 0.9517 - val_loss: 0.5180 - val_binary_accuracy: 0.1992 - 7s/epoch - 89ms/step\n",
      "Epoch 4/10\n",
      "77/77 - 7s - loss: 0.0272 - binary_accuracy: 0.9702 - val_loss: 0.4630 - val_binary_accuracy: 0.4438 - 7s/epoch - 86ms/step\n",
      "Epoch 5/10\n",
      "77/77 - 6s - loss: 0.0237 - binary_accuracy: 0.9740 - val_loss: 0.3111 - val_binary_accuracy: 0.6151 - 6s/epoch - 83ms/step\n",
      "Epoch 6/10\n",
      "77/77 - 6s - loss: 0.0206 - binary_accuracy: 0.9780 - val_loss: 0.0649 - val_binary_accuracy: 0.9257 - 6s/epoch - 81ms/step\n",
      "Epoch 7/10\n",
      "77/77 - 6s - loss: 0.0187 - binary_accuracy: 0.9797 - val_loss: 0.0484 - val_binary_accuracy: 0.9391 - 6s/epoch - 80ms/step\n",
      "Epoch 8/10\n",
      "77/77 - 6s - loss: 0.0203 - binary_accuracy: 0.9771 - val_loss: 0.0512 - val_binary_accuracy: 0.9401 - 6s/epoch - 82ms/step\n",
      "Epoch 9/10\n",
      "77/77 - 6s - loss: 0.0179 - binary_accuracy: 0.9800 - val_loss: 0.0511 - val_binary_accuracy: 0.9401 - 6s/epoch - 78ms/step\n",
      "Epoch 10/10\n",
      "77/77 - 6s - loss: 0.0188 - binary_accuracy: 0.9786 - val_loss: 0.0526 - val_binary_accuracy: 0.9391 - 6s/epoch - 79ms/step\n"
     ]
    }
   ],
   "source": [
    "history = model.fit(\n",
    "    x_train_ts,\n",
    "    y_train_ts,\n",
    "    batch_size=256,\n",
    "    epochs=10,\n",
    "    validation_data=(\n",
    "        x_test_ts,\n",
    "        y_test_ts\n",
    "    ),\n",
    "    verbose=2\n",
    ")"
   ]
  },
  {
   "cell_type": "code",
   "execution_count": 12,
   "metadata": {
    "ExecuteTime": {
     "start_time": "2023-05-29T13:58:35.613200Z",
     "end_time": "2023-05-29T13:58:35.867806Z"
    }
   },
   "outputs": [
    {
     "data": {
      "text/plain": "<Figure size 576x216 with 1 Axes>",
      "image/png": "[encoded data removed]"
     },
     "metadata": {
      "needs_background": "light"
     },
     "output_type": "display_data"
    },
    {
     "data": {
      "text/plain": "<Figure size 576x216 with 1 Axes>",
      "image/png": "[encoded data removed]"
     },
     "metadata": {
      "needs_background": "light"
     },
     "output_type": "display_data"
    }
   ],
   "source": [
    "plt.figure(figsize=(8,3))\n",
    "plt.title('Loss')\n",
    "plt.plot(history.history['loss'], label='loss')\n",
    "plt.plot(history.history['val_loss'], label='validation loss')\n",
    "plt.legend()\n",
    "plt.show()\n",
    "\n",
    "plt.figure(figsize=(8,3))\n",
    "plt.title('Accuracy')\n",
    "plt.plot(history.history['binary_accuracy'], label='accuracy')\n",
    "plt.plot(history.history['val_binary_accuracy'], label='validation accuracy')\n",
    "plt.legend()\n",
    "plt.show()"
   ]
  },
  {
   "cell_type": "code",
   "execution_count": 13,
   "metadata": {
    "ExecuteTime": {
     "start_time": "2023-05-29T13:58:35.875806Z",
     "end_time": "2023-05-29T13:58:36.069998Z"
    }
   },
   "outputs": [
    {
     "name": "stdout",
     "output_type": "stream",
     "text": [
      "[[0.97947]] 1.0\n"
     ]
    }
   ],
   "source": [
    "print(\n",
    "    model.predict(x_test_ts[42:43]),\n",
    "    y_test_ts[42]\n",
    ")"
   ]
  },
  {
   "cell_type": "code",
   "execution_count": 14,
   "metadata": {
    "ExecuteTime": {
     "start_time": "2023-05-29T13:58:36.072989Z",
     "end_time": "2023-05-29T13:58:36.148090Z"
    }
   },
   "outputs": [
    {
     "name": "stdout",
     "output_type": "stream",
     "text": [
      "[[0.01387723]] 0.0\n"
     ]
    }
   ],
   "source": [
    "print(\n",
    "    model.predict(x_test_ts[114:115]),\n",
    "    y_test_ts[114]\n",
    ")"
   ]
  },
  {
   "cell_type": "code",
   "execution_count": 15,
   "metadata": {
    "ExecuteTime": {
     "start_time": "2023-05-29T13:58:36.150095Z",
     "end_time": "2023-05-29T13:58:36.728377Z"
    }
   },
   "outputs": [
    {
     "name": "stdout",
     "output_type": "stream",
     "text": [
      "0.9391124871001032\n"
     ]
    }
   ],
   "source": [
    "preds = model.predict(x_test_ts)\n",
    "preds = preds[:, 0]\n",
    "preds[preds > 0.5] = 1\n",
    "preds[preds < 1] = 0\n",
    "\n",
    "print(accuracy_score(y_test_ts, preds))"
   ]
  },
  {
   "cell_type": "code",
   "execution_count": null,
   "metadata": {},
   "outputs": [],
   "source": []
  }
 ],
 "metadata": {
  "kernelspec": {
   "display_name": "Python 3",
   "language": "python",
   "name": "python3"
  },
  "language_info": {
   "codemirror_mode": {
    "name": "ipython",
    "version": 3
   },
   "file_extension": ".py",
   "mimetype": "text/x-python",
   "name": "python",
   "nbconvert_exporter": "python",
   "pygments_lexer": "ipython3",
   "version": "3.8.8"
  }
 },
 "nbformat": 4,
 "nbformat_minor": 1
}
