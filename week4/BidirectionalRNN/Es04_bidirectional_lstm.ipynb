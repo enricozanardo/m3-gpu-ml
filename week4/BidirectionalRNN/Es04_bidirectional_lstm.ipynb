{
 "cells": [
  {
   "cell_type": "code",
   "execution_count": 1,
   "metadata": {
    "collapsed": true
   },
   "outputs": [],
   "source": [
    "from datetime import datetime\n",
    "import numpy as np\n",
    "from matplotlib import pyplot as plt\n",
    "import tensorflow as tf\n",
    "from tensorflow import keras\n",
    "from tensorflow.keras import layers\n",
    "import pandas as pd"
   ]
  },
  {
   "cell_type": "code",
   "execution_count": 2,
   "outputs": [
    {
     "data": {
      "text/plain": "                  Formatted Date        Summary Precip Type  Temperature (C)  \\\n0  2006-04-01 00:00:00.000 +0200  Partly Cloudy        rain         9.472222   \n1  2006-04-01 01:00:00.000 +0200  Partly Cloudy        rain         9.355556   \n2  2006-04-01 02:00:00.000 +0200  Mostly Cloudy        rain         9.377778   \n3  2006-04-01 03:00:00.000 +0200  Partly Cloudy        rain         8.288889   \n4  2006-04-01 04:00:00.000 +0200  Mostly Cloudy        rain         8.755556   \n\n   Apparent Temperature (C)  Humidity  Wind Speed (km/h)  \\\n0                  7.388889      0.89            14.1197   \n1                  7.227778      0.86            14.2646   \n2                  9.377778      0.89             3.9284   \n3                  5.944444      0.83            14.1036   \n4                  6.977778      0.83            11.0446   \n\n   Wind Bearing (degrees)  Visibility (km)  Loud Cover  Pressure (millibars)  \\\n0                   251.0          15.8263         0.0               1015.13   \n1                   259.0          15.8263         0.0               1015.63   \n2                   204.0          14.9569         0.0               1015.94   \n3                   269.0          15.8263         0.0               1016.41   \n4                   259.0          15.8263         0.0               1016.51   \n\n                       Daily Summary  \n0  Partly cloudy throughout the day.  \n1  Partly cloudy throughout the day.  \n2  Partly cloudy throughout the day.  \n3  Partly cloudy throughout the day.  \n4  Partly cloudy throughout the day.  ",
      "text/html": "<div>\n<style scoped>\n    .dataframe tbody tr th:only-of-type {\n        vertical-align: middle;\n    }\n\n    .dataframe tbody tr th {\n        vertical-align: top;\n    }\n\n    .dataframe thead th {\n        text-align: right;\n    }\n</style>\n<table border=\"1\" class=\"dataframe\">\n  <thead>\n    <tr style=\"text-align: right;\">\n      <th></th>\n      <th>Formatted Date</th>\n      <th>Summary</th>\n      <th>Precip Type</th>\n      <th>Temperature (C)</th>\n      <th>Apparent Temperature (C)</th>\n      <th>Humidity</th>\n      <th>Wind Speed (km/h)</th>\n      <th>Wind Bearing (degrees)</th>\n      <th>Visibility (km)</th>\n      <th>Loud Cover</th>\n      <th>Pressure (millibars)</th>\n      <th>Daily Summary</th>\n    </tr>\n  </thead>\n  <tbody>\n    <tr>\n      <th>0</th>\n      <td>2006-04-01 00:00:00.000 +0200</td>\n      <td>Partly Cloudy</td>\n      <td>rain</td>\n      <td>9.472222</td>\n      <td>7.388889</td>\n      <td>0.89</td>\n      <td>14.1197</td>\n      <td>251.0</td>\n      <td>15.8263</td>\n      <td>0.0</td>\n      <td>1015.13</td>\n      <td>Partly cloudy throughout the day.</td>\n    </tr>\n    <tr>\n      <th>1</th>\n      <td>2006-04-01 01:00:00.000 +0200</td>\n      <td>Partly Cloudy</td>\n      <td>rain</td>\n      <td>9.355556</td>\n      <td>7.227778</td>\n      <td>0.86</td>\n      <td>14.2646</td>\n      <td>259.0</td>\n      <td>15.8263</td>\n      <td>0.0</td>\n      <td>1015.63</td>\n      <td>Partly cloudy throughout the day.</td>\n    </tr>\n    <tr>\n      <th>2</th>\n      <td>2006-04-01 02:00:00.000 +0200</td>\n      <td>Mostly Cloudy</td>\n      <td>rain</td>\n      <td>9.377778</td>\n      <td>9.377778</td>\n      <td>0.89</td>\n      <td>3.9284</td>\n      <td>204.0</td>\n      <td>14.9569</td>\n      <td>0.0</td>\n      <td>1015.94</td>\n      <td>Partly cloudy throughout the day.</td>\n    </tr>\n    <tr>\n      <th>3</th>\n      <td>2006-04-01 03:00:00.000 +0200</td>\n      <td>Partly Cloudy</td>\n      <td>rain</td>\n      <td>8.288889</td>\n      <td>5.944444</td>\n      <td>0.83</td>\n      <td>14.1036</td>\n      <td>269.0</td>\n      <td>15.8263</td>\n      <td>0.0</td>\n      <td>1016.41</td>\n      <td>Partly cloudy throughout the day.</td>\n    </tr>\n    <tr>\n      <th>4</th>\n      <td>2006-04-01 04:00:00.000 +0200</td>\n      <td>Mostly Cloudy</td>\n      <td>rain</td>\n      <td>8.755556</td>\n      <td>6.977778</td>\n      <td>0.83</td>\n      <td>11.0446</td>\n      <td>259.0</td>\n      <td>15.8263</td>\n      <td>0.0</td>\n      <td>1016.51</td>\n      <td>Partly cloudy throughout the day.</td>\n    </tr>\n  </tbody>\n</table>\n</div>"
     },
     "execution_count": 2,
     "metadata": {},
     "output_type": "execute_result"
    }
   ],
   "source": [
    "ds = pd.read_csv('data/meteo.csv')\n",
    "\n",
    "ds.head()"
   ],
   "metadata": {
    "collapsed": false,
    "pycharm": {
     "name": "#%%\n"
    }
   }
  },
  {
   "cell_type": "code",
   "execution_count": 3,
   "outputs": [],
   "source": [
    "ds['Ok'] = False\n",
    "ds.loc[\n",
    "    (ds['Temperature (C)'] > 0) & (ds['Wind Speed (km/h)'] < 14) & (ds['Visibility (km)'] > 15),\n",
    "    'Ok'\n",
    "] = True"
   ],
   "metadata": {
    "collapsed": false,
    "pycharm": {
     "name": "#%%\n"
    }
   }
  },
  {
   "cell_type": "code",
   "execution_count": 4,
   "outputs": [],
   "source": [
    "ds['Ok_13'] = ds['Ok'].rolling(13, center=True).sum()"
   ],
   "metadata": {
    "collapsed": false,
    "pycharm": {
     "name": "#%%\n"
    }
   }
  },
  {
   "cell_type": "code",
   "execution_count": 5,
   "outputs": [
    {
     "name": "stdout",
     "output_type": "stream",
     "text": [
      "10249\n"
     ]
    }
   ],
   "source": [
    "print(len(ds.loc[ds['Ok_13'] == True]))"
   ],
   "metadata": {
    "collapsed": false,
    "pycharm": {
     "name": "#%%\n"
    }
   }
  },
  {
   "cell_type": "code",
   "execution_count": 6,
   "outputs": [],
   "source": [
    "ds.dropna(inplace=True)"
   ],
   "metadata": {
    "collapsed": false,
    "pycharm": {
     "name": "#%%\n"
    }
   }
  },
  {
   "cell_type": "code",
   "execution_count": 7,
   "outputs": [],
   "source": [
    "ds = ds[['Temperature (C)', 'Visibility (km)', 'Wind Speed (km/h)', 'Ok']]\n",
    "\n",
    "ds = ds.values"
   ],
   "metadata": {
    "collapsed": false,
    "pycharm": {
     "name": "#%%\n"
    }
   }
  },
  {
   "cell_type": "code",
   "execution_count": 8,
   "outputs": [],
   "source": [
    "features = ds[:, :3]\n",
    "labels = ds[:, 3]\n",
    "\n",
    "max_features = np.max(features, axis=0)\n",
    "min_features = np.min(features, axis=0)\n",
    "\n",
    "features = (features - min_features) / (max_features - min_features)"
   ],
   "metadata": {
    "collapsed": false,
    "pycharm": {
     "name": "#%%\n"
    }
   }
  },
  {
   "cell_type": "code",
   "execution_count": 9,
   "outputs": [],
   "source": [
    "step = 13\n",
    "\n",
    "x = np.zeros((len(features), step, len(features[0])), dtype='float32')\n",
    "y = np.zeros((len(labels), step), dtype='float32')\n",
    "\n",
    "for id in range(0, len(features) - step):\n",
    "    x[id] = features[id:id + step]\n",
    "    y[id] = labels[id:id + step]"
   ],
   "metadata": {
    "collapsed": false,
    "pycharm": {
     "name": "#%%\n"
    }
   }
  },
  {
   "cell_type": "code",
   "execution_count": 10,
   "outputs": [],
   "source": [
    "x_train = x[:90000]\n",
    "y_train = y[:90000]\n",
    "\n",
    "x_test = x[90000:]\n",
    "y_test = y[90000:]"
   ],
   "metadata": {
    "collapsed": false,
    "pycharm": {
     "name": "#%%\n"
    }
   }
  },
  {
   "cell_type": "code",
   "execution_count": 29,
   "outputs": [
    {
     "name": "stdout",
     "output_type": "stream",
     "text": [
      "Model: \"lstm\"\n",
      "_________________________________________________________________\n",
      "Layer (type)                 Output Shape              Param #   \n",
      "=================================================================\n",
      "input_9 (InputLayer)         [(None, 13, 3)]           0         \n",
      "_________________________________________________________________\n",
      "lstm_16 (LSTM)               (None, 13, 8)             384       \n",
      "_________________________________________________________________\n",
      "lstm_17 (LSTM)               (None, 8)                 544       \n",
      "_________________________________________________________________\n",
      "dense_16 (Dense)             (None, 8)                 72        \n",
      "_________________________________________________________________\n",
      "dropout_6 (Dropout)          (None, 8)                 0         \n",
      "_________________________________________________________________\n",
      "dense_17 (Dense)             (None, 13)                117       \n",
      "=================================================================\n",
      "Total params: 1,117\n",
      "Trainable params: 1,117\n",
      "Non-trainable params: 0\n",
      "_________________________________________________________________\n"
     ]
    }
   ],
   "source": [
    "# costruzione del modello basato su LSTM\n",
    "\n",
    "# creazione di un input per una sequenza di\n",
    "# lunghezza variabile di interi\n",
    "inputs = keras.Input(shape=(x_train.shape[1:]))\n",
    "\n",
    "# aggiunta di due layer LSTM\n",
    "x = layers.LSTM(8, return_sequences=True)(inputs)\n",
    "x = layers.LSTM(8)(x)\n",
    "x = layers.Dense(8, activation='swish')(x)\n",
    "x = layers.Dropout(0.3)(x)\n",
    "outputs = layers.Dense(step, activation='sigmoid')(x)\n",
    "lstm_model = keras.Model(inputs, outputs, name='lstm')\n",
    "lstm_model.summary()\n",
    "\n",
    "lstm_model.compile(keras.optimizers.Adam(), \"mse\", metrics='binary_accuracy')"
   ],
   "metadata": {
    "collapsed": false,
    "pycharm": {
     "name": "#%%\n"
    }
   }
  },
  {
   "cell_type": "code",
   "execution_count": 30,
   "metadata": {
    "pycharm": {
     "name": "#%%\n"
    }
   },
   "outputs": [
    {
     "name": "stdout",
     "output_type": "stream",
     "text": [
      "Model: \"bidirectional\"\n",
      "_________________________________________________________________\n",
      "Layer (type)                 Output Shape              Param #   \n",
      "=================================================================\n",
      "input_10 (InputLayer)        [(None, 13, 3)]           0         \n",
      "_________________________________________________________________\n",
      "bidirectional_8 (Bidirection (None, 13, 8)             768       \n",
      "_________________________________________________________________\n",
      "bidirectional_9 (Bidirection (None, 8)                 1088      \n",
      "_________________________________________________________________\n",
      "dense_18 (Dense)             (None, 8)                 72        \n",
      "_________________________________________________________________\n",
      "dropout_7 (Dropout)          (None, 8)                 0         \n",
      "_________________________________________________________________\n",
      "dense_19 (Dense)             (None, 13)                117       \n",
      "=================================================================\n",
      "Total params: 2,045\n",
      "Trainable params: 2,045\n",
      "Non-trainable params: 0\n",
      "_________________________________________________________________\n"
     ]
    }
   ],
   "source": [
    "# costruzione del modello basato su Bidirectional LSTM\n",
    "\n",
    "# creazione di un input per una sequenza di\n",
    "# lunghezza variabile di interi\n",
    "inputs = keras.Input(shape=(x_train.shape[1:]))\n",
    "\n",
    "# aggiunta di due layer LSTM\n",
    "x = layers.Bidirectional(layers.LSTM(8, return_sequences=True), merge_mode='ave')(inputs)\n",
    "x = layers.Bidirectional(layers.LSTM(8), merge_mode='ave')(x)\n",
    "x = layers.Dense(8, activation='swish')(x)\n",
    "x = layers.Dropout(0.3)(x)\n",
    "outputs = layers.Dense(step, activation='sigmoid')(x)\n",
    "bidirectional_model = keras.Model(inputs, outputs, name='bidirectional')\n",
    "bidirectional_model.summary()\n",
    "\n",
    "bidirectional_model.compile(keras.optimizers.Adam(), \"mse\", metrics='binary_accuracy')"
   ]
  },
  {
   "cell_type": "code",
   "execution_count": 31,
   "metadata": {
    "pycharm": {
     "name": "#%%\n"
    }
   },
   "outputs": [
    {
     "name": "stdout",
     "output_type": "stream",
     "text": [
      "Epoch 1/25\n",
      "176/176 - 4s - loss: 0.1922 - binary_accuracy: 0.7461 - val_loss: 0.2142 - val_binary_accuracy: 0.7104\n",
      "Epoch 2/25\n",
      "176/176 - 1s - loss: 0.1392 - binary_accuracy: 0.8515 - val_loss: 0.2201 - val_binary_accuracy: 0.7104\n",
      "Epoch 3/25\n",
      "176/176 - 1s - loss: 0.1230 - binary_accuracy: 0.8577 - val_loss: 0.1608 - val_binary_accuracy: 0.7104\n",
      "Epoch 4/25\n",
      "176/176 - 1s - loss: 0.0971 - binary_accuracy: 0.8719 - val_loss: 0.1254 - val_binary_accuracy: 0.8279\n",
      "Epoch 5/25\n",
      "176/176 - 1s - loss: 0.0890 - binary_accuracy: 0.8878 - val_loss: 0.1146 - val_binary_accuracy: 0.8424\n",
      "Epoch 6/25\n",
      "176/176 - 1s - loss: 0.0853 - binary_accuracy: 0.8911 - val_loss: 0.1104 - val_binary_accuracy: 0.8439\n",
      "Epoch 7/25\n",
      "176/176 - 1s - loss: 0.0833 - binary_accuracy: 0.8921 - val_loss: 0.1087 - val_binary_accuracy: 0.8442\n",
      "Epoch 8/25\n",
      "176/176 - 1s - loss: 0.0818 - binary_accuracy: 0.8926 - val_loss: 0.1083 - val_binary_accuracy: 0.8450\n",
      "Epoch 9/25\n",
      "176/176 - 1s - loss: 0.0807 - binary_accuracy: 0.8933 - val_loss: 0.1078 - val_binary_accuracy: 0.8417\n",
      "Epoch 10/25\n",
      "176/176 - 1s - loss: 0.0786 - binary_accuracy: 0.8949 - val_loss: 0.1029 - val_binary_accuracy: 0.8488\n",
      "Epoch 11/25\n",
      "176/176 - 1s - loss: 0.0750 - binary_accuracy: 0.9007 - val_loss: 0.0954 - val_binary_accuracy: 0.8679\n",
      "Epoch 12/25\n",
      "176/176 - 1s - loss: 0.0722 - binary_accuracy: 0.9041 - val_loss: 0.0918 - val_binary_accuracy: 0.8728\n",
      "Epoch 13/25\n",
      "176/176 - 1s - loss: 0.0707 - binary_accuracy: 0.9053 - val_loss: 0.0897 - val_binary_accuracy: 0.8757\n",
      "Epoch 14/25\n",
      "176/176 - 1s - loss: 0.0695 - binary_accuracy: 0.9060 - val_loss: 0.0884 - val_binary_accuracy: 0.8775\n",
      "Epoch 15/25\n",
      "176/176 - 1s - loss: 0.0686 - binary_accuracy: 0.9066 - val_loss: 0.0882 - val_binary_accuracy: 0.8759\n",
      "Epoch 16/25\n",
      "176/176 - 1s - loss: 0.0680 - binary_accuracy: 0.9072 - val_loss: 0.0875 - val_binary_accuracy: 0.8783\n",
      "Epoch 17/25\n",
      "176/176 - 1s - loss: 0.0674 - binary_accuracy: 0.9076 - val_loss: 0.0860 - val_binary_accuracy: 0.8805\n",
      "Epoch 18/25\n",
      "176/176 - 1s - loss: 0.0668 - binary_accuracy: 0.9078 - val_loss: 0.0852 - val_binary_accuracy: 0.8817\n",
      "Epoch 19/25\n",
      "176/176 - 1s - loss: 0.0662 - binary_accuracy: 0.9086 - val_loss: 0.0854 - val_binary_accuracy: 0.8804\n",
      "Epoch 20/25\n",
      "176/176 - 1s - loss: 0.0659 - binary_accuracy: 0.9086 - val_loss: 0.0858 - val_binary_accuracy: 0.8802\n",
      "Epoch 21/25\n",
      "176/176 - 1s - loss: 0.0654 - binary_accuracy: 0.9091 - val_loss: 0.0839 - val_binary_accuracy: 0.8841\n",
      "Epoch 22/25\n",
      "176/176 - 1s - loss: 0.0651 - binary_accuracy: 0.9094 - val_loss: 0.0833 - val_binary_accuracy: 0.8840\n",
      "Epoch 23/25\n",
      "176/176 - 1s - loss: 0.0644 - binary_accuracy: 0.9102 - val_loss: 0.0839 - val_binary_accuracy: 0.8821\n",
      "Epoch 24/25\n",
      "176/176 - 1s - loss: 0.0641 - binary_accuracy: 0.9107 - val_loss: 0.0818 - val_binary_accuracy: 0.8861\n",
      "Epoch 25/25\n",
      "176/176 - 1s - loss: 0.0636 - binary_accuracy: 0.9114 - val_loss: 0.0814 - val_binary_accuracy: 0.8872\n",
      "---\n",
      "Tempo di addestramento LSTM: 0:00:37.733565\n"
     ]
    }
   ],
   "source": [
    "# addestramento dei modelli\n",
    "\n",
    "lstm_start_time = datetime.now()\n",
    "lstm_history = lstm_model.fit(x_train, y_train, batch_size=512, epochs=25, validation_data=(x_test, y_test), verbose=2)\n",
    "lstm_end_time = datetime.now()\n",
    "\n",
    "lstm_training_time = lstm_end_time - lstm_start_time\n",
    "\n",
    "print('---')\n",
    "print('Tempo di addestramento LSTM:', lstm_training_time)"
   ]
  },
  {
   "cell_type": "code",
   "execution_count": 32,
   "outputs": [
    {
     "name": "stdout",
     "output_type": "stream",
     "text": [
      "Epoch 1/25\n",
      "176/176 - 5s - loss: 0.1844 - binary_accuracy: 0.7633 - val_loss: 0.2248 - val_binary_accuracy: 0.7104\n",
      "Epoch 2/25\n",
      "176/176 - 2s - loss: 0.1241 - binary_accuracy: 0.8507 - val_loss: 0.1522 - val_binary_accuracy: 0.7134\n",
      "Epoch 3/25\n",
      "176/176 - 2s - loss: 0.0901 - binary_accuracy: 0.8808 - val_loss: 0.1215 - val_binary_accuracy: 0.8308\n",
      "Epoch 4/25\n",
      "176/176 - 2s - loss: 0.0826 - binary_accuracy: 0.8915 - val_loss: 0.1143 - val_binary_accuracy: 0.8363\n",
      "Epoch 5/25\n",
      "176/176 - 2s - loss: 0.0800 - binary_accuracy: 0.8938 - val_loss: 0.1093 - val_binary_accuracy: 0.8432\n",
      "Epoch 6/25\n",
      "176/176 - 2s - loss: 0.0783 - binary_accuracy: 0.8948 - val_loss: 0.1066 - val_binary_accuracy: 0.8441\n",
      "Epoch 7/25\n",
      "176/176 - 2s - loss: 0.0761 - binary_accuracy: 0.8967 - val_loss: 0.1015 - val_binary_accuracy: 0.8531\n",
      "Epoch 8/25\n",
      "176/176 - 2s - loss: 0.0724 - binary_accuracy: 0.9012 - val_loss: 0.0949 - val_binary_accuracy: 0.8654\n",
      "Epoch 9/25\n",
      "176/176 - 2s - loss: 0.0689 - binary_accuracy: 0.9068 - val_loss: 0.0899 - val_binary_accuracy: 0.8763\n",
      "Epoch 10/25\n",
      "176/176 - 2s - loss: 0.0667 - binary_accuracy: 0.9098 - val_loss: 0.0873 - val_binary_accuracy: 0.8806\n",
      "Epoch 11/25\n",
      "176/176 - 2s - loss: 0.0651 - binary_accuracy: 0.9122 - val_loss: 0.0848 - val_binary_accuracy: 0.8845\n",
      "Epoch 12/25\n",
      "176/176 - 2s - loss: 0.0638 - binary_accuracy: 0.9139 - val_loss: 0.0853 - val_binary_accuracy: 0.8819\n",
      "Epoch 13/25\n",
      "176/176 - 2s - loss: 0.0629 - binary_accuracy: 0.9148 - val_loss: 0.0826 - val_binary_accuracy: 0.8877\n",
      "Epoch 14/25\n",
      "176/176 - 2s - loss: 0.0621 - binary_accuracy: 0.9158 - val_loss: 0.0812 - val_binary_accuracy: 0.8891\n",
      "Epoch 15/25\n",
      "176/176 - 2s - loss: 0.0616 - binary_accuracy: 0.9165 - val_loss: 0.0802 - val_binary_accuracy: 0.8911\n",
      "Epoch 16/25\n",
      "176/176 - 2s - loss: 0.0612 - binary_accuracy: 0.9167 - val_loss: 0.0786 - val_binary_accuracy: 0.8934\n",
      "Epoch 17/25\n",
      "176/176 - 2s - loss: 0.0606 - binary_accuracy: 0.9173 - val_loss: 0.0786 - val_binary_accuracy: 0.8939\n",
      "Epoch 18/25\n",
      "176/176 - 2s - loss: 0.0600 - binary_accuracy: 0.9180 - val_loss: 0.0782 - val_binary_accuracy: 0.8936\n",
      "Epoch 19/25\n",
      "176/176 - 2s - loss: 0.0594 - binary_accuracy: 0.9188 - val_loss: 0.0796 - val_binary_accuracy: 0.8906\n",
      "Epoch 20/25\n",
      "176/176 - 2s - loss: 0.0593 - binary_accuracy: 0.9188 - val_loss: 0.0764 - val_binary_accuracy: 0.8961\n",
      "Epoch 21/25\n",
      "176/176 - 2s - loss: 0.0586 - binary_accuracy: 0.9195 - val_loss: 0.0757 - val_binary_accuracy: 0.8965\n",
      "Epoch 22/25\n",
      "176/176 - 2s - loss: 0.0585 - binary_accuracy: 0.9194 - val_loss: 0.0751 - val_binary_accuracy: 0.8973\n",
      "Epoch 23/25\n",
      "176/176 - 2s - loss: 0.0581 - binary_accuracy: 0.9197 - val_loss: 0.0745 - val_binary_accuracy: 0.8983\n",
      "Epoch 24/25\n",
      "176/176 - 2s - loss: 0.0577 - binary_accuracy: 0.9204 - val_loss: 0.0745 - val_binary_accuracy: 0.8982\n",
      "Epoch 25/25\n",
      "176/176 - 2s - loss: 0.0575 - binary_accuracy: 0.9204 - val_loss: 0.0751 - val_binary_accuracy: 0.8976\n",
      "---\n",
      "Tempo di addestramento Bidirectional LSTM: 0:00:51.224434\n"
     ]
    }
   ],
   "source": [
    "bidirectional_start_time = datetime.now()\n",
    "bidirectional_history = bidirectional_model.fit(x_train, y_train, batch_size=512, epochs=25, validation_data=(x_test, y_test), verbose=2)\n",
    "bidirectional_end_time = datetime.now()\n",
    "\n",
    "bidirectional_training_time = bidirectional_end_time - bidirectional_start_time\n",
    "\n",
    "print('---')\n",
    "print('Tempo di addestramento Bidirectional LSTM:', bidirectional_training_time)"
   ],
   "metadata": {
    "collapsed": false,
    "pycharm": {
     "name": "#%%\n"
    }
   }
  },
  {
   "cell_type": "code",
   "execution_count": 33,
   "metadata": {
    "pycharm": {
     "name": "#%%\n"
    }
   },
   "outputs": [
    {
     "data": {
      "text/plain": "<Figure size 1152x360 with 1 Axes>",
      "image/png": "[encoded data removed]"
     },
     "metadata": {
      "needs_background": "light"
     },
     "output_type": "display_data"
    },
    {
     "data": {
      "text/plain": "<Figure size 1152x360 with 1 Axes>",
      "image/png": "[encoded data removed]"
     },
     "metadata": {
      "needs_background": "light"
     },
     "output_type": "display_data"
    }
   ],
   "source": [
    "plt.figure(figsize=(16,5))\n",
    "plt.plot(bidirectional_history.history['loss'], label='Bidirectional train', color='red')\n",
    "plt.plot(bidirectional_history.history['val_loss'], label='Bidirectional test', color='orange')\n",
    "plt.plot(lstm_history.history['loss'], label='LSTM train', color='blue')\n",
    "plt.plot(lstm_history.history['val_loss'], label='LSTM test', color='cyan')\n",
    "plt.title('ERRORE')\n",
    "plt.legend()\n",
    "plt.show()\n",
    "\n",
    "plt.figure(figsize=(16,5))\n",
    "plt.plot(bidirectional_history.history['binary_accuracy'], label='Bidirectional train', color='red')\n",
    "plt.plot(bidirectional_history.history['val_binary_accuracy'], label='Bidirectional test', color='orange')\n",
    "plt.plot(lstm_history.history['binary_accuracy'], label='LSTM train', color='blue')\n",
    "plt.plot(lstm_history.history['val_binary_accuracy'], label='LSTM test', color='cyan')\n",
    "plt.title('ACCURATEZZA')\n",
    "plt.legend()\n",
    "plt.show()"
   ]
  },
  {
   "cell_type": "code",
   "execution_count": 34,
   "metadata": {
    "pycharm": {
     "name": "#%%\n"
    }
   },
   "outputs": [
    {
     "name": "stdout",
     "output_type": "stream",
     "text": [
      "186/186 [==============================] - 0s 1ms/step - loss: 0.0814 - binary_accuracy: 0.8872\b\b\b\b\b\b\b\b\b\b\b\b\b\b\b\b\b\b\b\b\b\b\b\b\b\b\b\b\b\b\b\b\b\b\b\b\b\b\b\b\b\b\b\b\b\b\b\b\b\b\b\b\b\b\b\b\b\b\b\b\b\b\b\b\b\b\b\b\b\b\b\b\b\b\b\b\b\b\b\b\b\b\b\b\b\b\b\b\b\b\b\b\b\b\b\b\b\b\b\b\b\b\b\b\b\b\b\b\b\b\b\b\b\b\b\b\b\b\b\b\b\b\b\b\b\b\b\b\b\b\b\b\b\b\b\b\b\b\b\b\b\b\b\b\b\b\b\b\b\b\b\b\b\b\b\b\b\b\b\b\b\b\b\b\b\b\b\b\b\b\b\b\b\b\b\b\b\b\b\b\b\b\b\b\b\b\b\b\b\b\b\b\b\b\b\b\b\b\b\b\b\b\b\b\b\b\b\b\b\b\b\b\b\b\b\b\b\b\b\b\b\b\b\b\b\b\b\b\b\b\b\b\b\b\b\b\b\b\b\b\b\b\b\b\b\b\b\b\b\b\b\b\b\b\b\b\b\b\b\b\b\b\b\b\b\b\b\b\b\b\b\b\b\b\b\b\b\b\b\b\b\b\b\b\b\b\b\b\b\b\b\b\b\b\b\b\b\b\b\b\b\b\b\b\b\b\b\b\b\b\b\b\b\b\b\b\b\b\b\b\b\b\b\b\b\b\b\b\b\b\b\b\b\b\b\b\b\b\b\b\b\b\b\b\b\b\b\b\b\b\b\b\b\b\b\b\b\b\b\b\b\b\b\b\b\b\b\b\b\b\b\b\b\b\b\b\b\b\b\b\b\b\b\b\b\b\b\b\b\b\b\b\b\b\b\b\b\b\b\b\b\b\b\b\b\b\b\b\b\b\b\b\b\b\b\b\b\b\b\b\b\b\b\b\b\b\b\b\b\b\b\b\b\b\b\b\b\b\b\b\b\b\b\b\b\b\b\b\b\b\b\n",
      "Accuratezza modello LSTM [0.08135361969470978, 0.8871994614601135]\n",
      "Tempo di addestramento LSTM: 0:00:37.733565\n",
      "\n",
      "186/186 [==============================] - 0s 2ms/step - loss: 0.0751 - binary_accuracy: 0.8976\b\b\b\b\b\b\b\b\b\b\b\b\b\b\b\b\b\b\b\b\b\b\b\b\b\b\b\b\b\b\b\b\b\b\b\b\b\b\b\b\b\b\b\b\b\b\b\b\b\b\b\b\b\b\b\b\b\b\b\b\b\b\b\b\b\b\b\b\b\b\b\b\b\b\b\b\b\b\b\b\b\b\b\b\b\b\b\b\b\b\b\b\b\b\b\b\b\b\b\b\b\b\b\b\b\b\b\b\b\b\b\b\b\b\b\b\b\b\b\b\b\b\b\b\b\b\b\b\b\b\b\b\b\b\b\b\b\b\b\b\b\b\b\b\b\b\b\b\b\b\b\b\b\b\b\b\b\b\b\b\b\b\b\b\b\b\b\b\b\b\b\b\b\b\b\b\b\b\b\b\b\b\b\b\b\b\b\b\b\b\b\b\b\b\b\b\b\b\b\b\b\b\b\b\b\b\b\b\b\b\b\b\b\b\b\b\b\b\b\b\b\b\b\b\b\b\b\b\b\b\b\b\b\b\b\b\b\b\b\b\b\b\b\b\b\b\b\b\b\b\b\b\b\b\b\b\b\b\b\b\b\b\b\b\b\b\b\b\b\b\b\b\b\b\b\b\b\b\b\b\b\b\b\b\b\b\b\b\b\b\b\b\b\b\b\b\b\b\b\b\b\b\b\b\b\b\b\b\b\b\b\b\b\b\b\b\b\b\b\b\b\b\b\b\b\b\b\b\b\b\b\b\b\b\b\b\b\b\b\b\b\b\b\b\b\b\b\b\b\b\b\b\b\b\b\b\b\b\b\b\b\b\b\b\b\b\b\b\b\b\b\b\b\b\b\b\b\b\b\b\b\b\b\b\b\b\b\b\b\b\b\b\b\b\b\b\b\b\b\b\b\b\b\b\b\b\b\b\b\b\b\b\b\b\b\b\b\b\b\b\b\b\b\b\b\b\b\b\b\b\b\b\b\b\b\b\b\b\b\b\b\b\b\b\b\b\b\b\b\b\b\b\b\b\b\b\b\b\b\b\b\b\b\b\b\b\b\b\b\b\b\b\b\b\b\b\b\b\b\b\b\b\b\b\b\b\b\b\b\b\b\b\b\b\b\b\b\b\b\b\b\b\b\b\b\b\b\b\b\b\b\b\b\b\b\b\b\b\b\b\b\b\b\b\b\b\b\b\b\b\b\b\b\b\b\b\b\b\b\b\b\b\n",
      "Accuratezza modello Bidirectional [0.0750565379858017, 0.8976262211799622]\n",
      "Tempo di addestramento Bidirectional LSTM: 0:00:51.224434\n"
     ]
    }
   ],
   "source": [
    "print('Accuratezza modello LSTM', lstm_model.evaluate(x_test, y_test))\n",
    "print('Tempo di addestramento LSTM:', lstm_training_time)\n",
    "\n",
    "print('')\n",
    "\n",
    "print('Accuratezza modello Bidirectional', bidirectional_model.evaluate(x_test, y_test))\n",
    "print('Tempo di addestramento Bidirectional LSTM:', bidirectional_training_time)"
   ]
  },
  {
   "cell_type": "code",
   "execution_count": null,
   "metadata": {
    "pycharm": {
     "name": "#%%\n"
    }
   },
   "outputs": [],
   "source": []
  }
 ],
 "metadata": {
  "kernelspec": {
   "display_name": "Python 3",
   "language": "python",
   "name": "python3"
  },
  "language_info": {
   "codemirror_mode": {
    "name": "ipython",
    "version": 3
   },
   "file_extension": ".py",
   "mimetype": "text/x-python",
   "name": "python",
   "nbconvert_exporter": "python",
   "pygments_lexer": "ipython3",
   "version": "3.8.8"
  }
 },
 "nbformat": 4,
 "nbformat_minor": 1
}