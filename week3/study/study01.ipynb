{
 "cells": [
  {
   "cell_type": "code",
   "execution_count": 1,
   "metadata": {},
   "outputs": [
    {
     "name": "stderr",
     "output_type": "stream",
     "text": [
      "2024-01-19 17:57:31.992280: E external/local_xla/xla/stream_executor/cuda/cuda_dnn.cc:9261] Unable to register cuDNN factory: Attempting to register factory for plugin cuDNN when one has already been registered\n",
      "2024-01-19 17:57:31.992318: E external/local_xla/xla/stream_executor/cuda/cuda_fft.cc:607] Unable to register cuFFT factory: Attempting to register factory for plugin cuFFT when one has already been registered\n",
      "2024-01-19 17:57:31.993262: E external/local_xla/xla/stream_executor/cuda/cuda_blas.cc:1515] Unable to register cuBLAS factory: Attempting to register factory for plugin cuBLAS when one has already been registered\n",
      "2024-01-19 17:57:31.998878: I tensorflow/core/platform/cpu_feature_guard.cc:182] This TensorFlow binary is optimized to use available CPU instructions in performance-critical operations.\n",
      "To enable the following instructions: AVX2 FMA, in other operations, rebuild TensorFlow with the appropriate compiler flags.\n",
      "2024-01-19 17:57:32.693977: W tensorflow/compiler/tf2tensorrt/utils/py_utils.cc:38] TF-TRT Warning: Could not find TensorRT\n"
     ]
    }
   ],
   "source": [
    "import tensorflow as tf\n",
    "from tensorflow.keras.layers import Dense, Input, Add, Activation, Conv1D, Conv2D, Flatten\n",
    "from tensorflow.keras.utils import to_categorical\n",
    "from matplotlib import pyplot as plt\n",
    "\n",
    "from tensorflow.keras.optimizers import Adam\n",
    "\n",
    "from tensorflow.keras.models import Sequential\n",
    "\n",
    "from sklearn.model_selection import train_test_split\n",
    "import numpy as np"
   ]
  },
  {
   "cell_type": "code",
   "execution_count": 2,
   "metadata": {},
   "outputs": [
    {
     "name": "stdout",
     "output_type": "stream",
     "text": [
      "<class 'numpy.ndarray'>\n",
      "<class 'numpy.ndarray'>\n"
     ]
    }
   ],
   "source": [
    "(train_images, train_labels), (test_images, test_labels) = tf.keras.datasets.mnist.load_data(path=\"mnist.npz\")\n",
    "\n",
    "print(type(train_images))\n",
    "print(type(train_labels))\n"
   ]
  },
  {
   "cell_type": "code",
   "execution_count": 3,
   "metadata": {},
   "outputs": [],
   "source": [
    "from tensorflow.keras.layers import BatchNormalization,MaxPooling2D, GlobalMaxPooling2D"
   ]
  },
  {
   "cell_type": "code",
   "execution_count": 19,
   "metadata": {},
   "outputs": [
    {
     "name": "stdout",
     "output_type": "stream",
     "text": [
      "(4, 3, 3)\n"
     ]
    }
   ],
   "source": [
    "array_a = np.array([\n",
    "        [\n",
    "            [100, 100, 100],\n",
    "            [122, 80, 80],\n",
    "            [78, 78, 120]\n",
    "        ],\n",
    "        [\n",
    "            [100, 235, 0],\n",
    "            [130, 70, 80],\n",
    "            [53, 255, 123]\n",
    "        ],\n",
    "        [\n",
    "            [234, 50, 55],\n",
    "            [89, 98, 254],\n",
    "            [10, 10, 10]\n",
    "        ],\n",
    "        [\n",
    "            [95, 95, 35],\n",
    "            [30, 30, 33],\n",
    "            [254, 255, 255]\n",
    "        ],\n",
    "    ])\n",
    "\n",
    "print(array_a.shape)\n",
    "\n",
    "# array_a= array_a.reshape(-1,3,3,1)\n",
    "\n",
    "# print(array_a.shape)\n",
    "\n",
    "\n",
    "array_a_labels = np.array([0,0,1,0])\n",
    "\n",
    "# array_a_labels = to_categorical(array_a_labels)\n",
    "\n",
    "IMAGE_SIZE = 3\n",
    "CHANNELS = 3"
   ]
  },
  {
   "cell_type": "code",
   "execution_count": null,
   "metadata": {},
   "outputs": [],
   "source": [
    "input = Input(shape=(3,3,1)) "
   ]
  },
  {
   "cell_type": "code",
   "execution_count": 33,
   "metadata": {},
   "outputs": [
    {
     "name": "stdout",
     "output_type": "stream",
     "text": [
      "Model: \"StudyGlobalMaxPooling\"\n",
      "_________________________________________________________________\n",
      " Layer (type)                Output Shape              Param #   \n",
      "=================================================================\n",
      " conv2d_9 (Conv2D)           (None, 1, 1, 4)           40        \n",
      "                                                                 \n",
      " batch_normalization_17 (Ba  (None, 1, 1, 4)           16        \n",
      " tchNormalization)                                               \n",
      "                                                                 \n",
      " activation_17 (Activation)  (None, 1, 1, 4)           0         \n",
      "                                                                 \n",
      " max_pooling2d_1 (MaxPoolin  (None, 1, 1, 4)           0         \n",
      " g2D)                                                            \n",
      "                                                                 \n",
      " flatten_2 (Flatten)         (None, 4)                 0         \n",
      "                                                                 \n",
      " batch_normalization_18 (Ba  (None, 4)                 16        \n",
      " tchNormalization)                                               \n",
      "                                                                 \n",
      " dense_8 (Dense)             (None, 1)                 5         \n",
      "                                                                 \n",
      " activation_18 (Activation)  (None, 1)                 0         \n",
      "                                                                 \n",
      "=================================================================\n",
      "Total params: 77 (308.00 Byte)\n",
      "Trainable params: 61 (244.00 Byte)\n",
      "Non-trainable params: 16 (64.00 Byte)\n",
      "_________________________________________________________________\n"
     ]
    }
   ],
   "source": [
    "model = tf.keras.Sequential(name=\"StudyGlobalMaxPooling\")\n",
    "model.add(Conv2D(4, (3,3), input_shape=(IMAGE_SIZE, IMAGE_SIZE, 1)))\n",
    "model.add(BatchNormalization())\n",
    "model.add(Activation('relu'))\n",
    "model.add(MaxPooling2D(pool_size=(1,1)))\n",
    "\n",
    "\n",
    "model.add(Flatten())\n",
    "\n",
    "model.add(BatchNormalization())\n",
    "model.add(Dense(1))\n",
    "model.add(Activation('sigmoid'))\n",
    "\n",
    "model.summary()\n",
    "\n",
    "\n",
    "\n"
   ]
  },
  {
   "cell_type": "code",
   "execution_count": 34,
   "metadata": {},
   "outputs": [
    {
     "name": "stdout",
     "output_type": "stream",
     "text": [
      "Model: \"StudyGlobalMaxPooling\"\n",
      "_________________________________________________________________\n",
      " Layer (type)                Output Shape              Param #   \n",
      "=================================================================\n",
      " conv2d_10 (Conv2D)          (None, 1, 1, 4)           40        \n",
      "                                                                 \n",
      " batch_normalization_19 (Ba  (None, 1, 1, 4)           16        \n",
      " tchNormalization)                                               \n",
      "                                                                 \n",
      " activation_19 (Activation)  (None, 1, 1, 4)           0         \n",
      "                                                                 \n",
      " max_pooling2d_2 (MaxPoolin  (None, 1, 1, 4)           0         \n",
      " g2D)                                                            \n",
      "                                                                 \n",
      " global_max_pooling2d_2 (Gl  (None, 4)                 0         \n",
      " obalMaxPooling2D)                                               \n",
      "                                                                 \n",
      " batch_normalization_20 (Ba  (None, 4)                 16        \n",
      " tchNormalization)                                               \n",
      "                                                                 \n",
      " dense_9 (Dense)             (None, 1)                 5         \n",
      "                                                                 \n",
      " activation_20 (Activation)  (None, 1)                 0         \n",
      "                                                                 \n",
      "=================================================================\n",
      "Total params: 77 (308.00 Byte)\n",
      "Trainable params: 61 (244.00 Byte)\n",
      "Non-trainable params: 16 (64.00 Byte)\n",
      "_________________________________________________________________\n"
     ]
    }
   ],
   "source": [
    "model2 = tf.keras.Sequential(name=\"StudyGlobalMaxPooling\")\n",
    "\n",
    "model2.add(Conv2D(4, (3,3), input_shape=(IMAGE_SIZE, IMAGE_SIZE, 1)))\n",
    "model2.add(BatchNormalization())\n",
    "model2.add(Activation('relu'))\n",
    "model2.add(MaxPooling2D(pool_size=(1,1)))\n",
    "\n",
    "\n",
    "model2.add(GlobalMaxPooling2D())\n",
    "\n",
    "model2.add(BatchNormalization())\n",
    "model2.add(Dense(1))\n",
    "model2.add(Activation('sigmoid'))\n",
    "\n",
    "model2.summary()"
   ]
  },
  {
   "cell_type": "code",
   "execution_count": 35,
   "metadata": {},
   "outputs": [],
   "source": [
    "model.compile(\n",
    "    optimizer=Adam(learning_rate=0.005),\n",
    "    loss='binary_crossentropy',\n",
    "    metrics=['accuracy']\n",
    ")"
   ]
  },
  {
   "cell_type": "code",
   "execution_count": 36,
   "metadata": {},
   "outputs": [],
   "source": [
    "model2.compile(\n",
    "    optimizer=Adam(learning_rate=0.005),\n",
    "    loss='binary_crossentropy',\n",
    "    metrics=['accuracy']\n",
    ")"
   ]
  },
  {
   "cell_type": "code",
   "execution_count": 38,
   "metadata": {},
   "outputs": [
    {
     "name": "stdout",
     "output_type": "stream",
     "text": [
      "Epoch 1/2\n",
      "1/1 [==============================] - 0s 7ms/step - loss: 1.0314 - accuracy: 0.2500\n",
      "Epoch 2/2\n",
      "1/1 [==============================] - 0s 7ms/step - loss: 0.9708 - accuracy: 0.2500\n"
     ]
    }
   ],
   "source": [
    "history_res = model.fit(\n",
    "    x=array_a,\n",
    "    y=array_a_labels,\n",
    "    epochs=2,\n",
    "    # batch_size=512,\n",
    "    # validation_data=(\n",
    "    #     test_images,\n",
    "    #     test_labels\n",
    "    # )\n",
    ")"
   ]
  },
  {
   "cell_type": "code",
   "execution_count": 39,
   "metadata": {},
   "outputs": [
    {
     "name": "stdout",
     "output_type": "stream",
     "text": [
      "Epoch 1/2\n",
      "WARNING:tensorflow:5 out of the last 11 calls to <function Model.make_train_function.<locals>.train_function at 0x7f7b85907be0> triggered tf.function retracing. Tracing is expensive and the excessive number of tracings could be due to (1) creating @tf.function repeatedly in a loop, (2) passing tensors with different shapes, (3) passing Python objects instead of tensors. For (1), please define your @tf.function outside of the loop. For (2), @tf.function has reduce_retracing=True option that can avoid unnecessary retracing. For (3), please refer to https://www.tensorflow.org/guide/function#controlling_retracing and https://www.tensorflow.org/api_docs/python/tf/function for  more details.\n",
      "1/1 [==============================] - 1s 800ms/step - loss: 0.7408 - accuracy: 0.7500\n",
      "Epoch 2/2\n",
      "1/1 [==============================] - 0s 5ms/step - loss: 0.6221 - accuracy: 0.7500\n"
     ]
    }
   ],
   "source": [
    "history_res = model2.fit(\n",
    "    x=array_a,\n",
    "    y=array_a_labels,\n",
    "    epochs=2,\n",
    "    # batch_size=512,\n",
    "    # validation_data=(\n",
    "    #     test_images,\n",
    "    #     test_labels\n",
    "    # )\n",
    ")"
   ]
  }
 ],
 "metadata": {
  "kernelspec": {
   "display_name": "venv",
   "language": "python",
   "name": "python3"
  },
  "language_info": {
   "codemirror_mode": {
    "name": "ipython",
    "version": 3
   },
   "file_extension": ".py",
   "mimetype": "text/x-python",
   "name": "python",
   "nbconvert_exporter": "python",
   "pygments_lexer": "ipython3",
   "version": "3.10.12"
  }
 },
 "nbformat": 4,
 "nbformat_minor": 2
}
