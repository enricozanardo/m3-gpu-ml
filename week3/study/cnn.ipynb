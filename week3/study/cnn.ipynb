{
 "cells": [
  {
   "cell_type": "code",
   "execution_count": 5,
   "metadata": {},
   "outputs": [],
   "source": [
    "import tensorflow as tf\n",
    "from tensorflow.keras.layers import Dense, Input, Add, Activation, Conv1D, Conv2D, Flatten\n",
    "from tensorflow.keras.optimizers.legacy import Adam\n",
    "from tensorflow.keras.utils import to_categorical\n",
    "from matplotlib import pyplot as plt\n",
    "import numpy as np"
   ]
  },
  {
   "cell_type": "code",
   "execution_count": 23,
   "metadata": {},
   "outputs": [],
   "source": [
    "# load the model\n",
    "(train_images, train_labels), (test_images, test_labels) = tf.keras.datasets.mnist.load_data(path=\"mnist.npz\")\n"
   ]
  },
  {
   "cell_type": "code",
   "execution_count": 24,
   "metadata": {},
   "outputs": [],
   "source": [
    "# Preprocessing dei dati\n",
    "\n",
    "train_images = train_images.reshape(60000,28,28,1)\n",
    "test_images = test_images.reshape(10000,28,28,1)\n",
    "\n",
    "# normalizzazione\n",
    "train_images = (train_images / 255)\n",
    "test_images = (test_images / 255)\n",
    "\n",
    "# appiattimento di ogni immagine da un array 28x28 ad un array di 784 pixel\n",
    "# train_images = train_images.reshape(-1, 28*28) # 784\n",
    "# test_images = test_images.reshape(-1, 28*28)\n",
    "\n",
    "train_labels = to_categorical(train_labels)\n",
    "test_labels = to_categorical(test_labels)"
   ]
  },
  {
   "cell_type": "code",
   "execution_count": 28,
   "metadata": {},
   "outputs": [
    {
     "name": "stdout",
     "output_type": "stream",
     "text": [
      "60000\n"
     ]
    },
    {
     "ename": "ValueError",
     "evalue": "Inputs have incompatible shapes. Received shapes (26, 26, 64) and (26, 26, 16)",
     "output_type": "error",
     "traceback": [
      "\u001b[0;31m---------------------------------------------------------------------------\u001b[0m",
      "\u001b[0;31mValueError\u001b[0m                                Traceback (most recent call last)",
      "Cell \u001b[0;32mIn[28], line 15\u001b[0m\n\u001b[1;32m      6\u001b[0m conv_0 \u001b[38;5;241m=\u001b[39m Conv2D(\n\u001b[1;32m      7\u001b[0m         \u001b[38;5;241m64\u001b[39m, \n\u001b[1;32m      8\u001b[0m         kernel_size\u001b[38;5;241m=\u001b[39m\u001b[38;5;241m3\u001b[39m, \n\u001b[1;32m      9\u001b[0m         activation\u001b[38;5;241m=\u001b[39m\u001b[38;5;124m'\u001b[39m\u001b[38;5;124mswish\u001b[39m\u001b[38;5;124m'\u001b[39m, \n\u001b[1;32m     10\u001b[0m         input_shape\u001b[38;5;241m=\u001b[39m(\u001b[38;5;241m28\u001b[39m,\u001b[38;5;241m28\u001b[39m,\u001b[38;5;241m1\u001b[39m) \u001b[38;5;66;03m# This is the shape of each input image, 28,28,1 with the 1 signifying that the images are greyscale.\u001b[39;00m\n\u001b[1;32m     11\u001b[0m     )(\u001b[38;5;28minput\u001b[39m)\n\u001b[1;32m     13\u001b[0m dense_0 \u001b[38;5;241m=\u001b[39m Dense(units\u001b[38;5;241m=\u001b[39m\u001b[38;5;241m16\u001b[39m, activation\u001b[38;5;241m=\u001b[39m\u001b[38;5;124m'\u001b[39m\u001b[38;5;124mrelu\u001b[39m\u001b[38;5;124m'\u001b[39m)(conv_0)\n\u001b[0;32m---> 15\u001b[0m residual_0 \u001b[38;5;241m=\u001b[39m \u001b[43mAdd\u001b[49m\u001b[43m(\u001b[49m\u001b[43m)\u001b[49m\u001b[43m(\u001b[49m\u001b[43m[\u001b[49m\u001b[43mconv_0\u001b[49m\u001b[43m,\u001b[49m\u001b[43m \u001b[49m\u001b[43mdense_0\u001b[49m\u001b[43m]\u001b[49m\u001b[43m)\u001b[49m\n\u001b[1;32m     16\u001b[0m residual_0 \u001b[38;5;241m=\u001b[39m Activation(\u001b[38;5;124m'\u001b[39m\u001b[38;5;124mrelu\u001b[39m\u001b[38;5;124m'\u001b[39m)(residual_0) \u001b[38;5;66;03m# torna indietro con la derivata prima parziale della funzione relu\u001b[39;00m\n\u001b[1;32m     18\u001b[0m flatten_0 \u001b[38;5;241m=\u001b[39m Flatten()(residual_0)\n",
      "File \u001b[0;32m~/Github/gpu-ml/venv/lib/python3.11/site-packages/keras/src/utils/traceback_utils.py:70\u001b[0m, in \u001b[0;36mfilter_traceback.<locals>.error_handler\u001b[0;34m(*args, **kwargs)\u001b[0m\n\u001b[1;32m     67\u001b[0m     filtered_tb \u001b[38;5;241m=\u001b[39m _process_traceback_frames(e\u001b[38;5;241m.\u001b[39m__traceback__)\n\u001b[1;32m     68\u001b[0m     \u001b[38;5;66;03m# To get the full stack trace, call:\u001b[39;00m\n\u001b[1;32m     69\u001b[0m     \u001b[38;5;66;03m# `tf.debugging.disable_traceback_filtering()`\u001b[39;00m\n\u001b[0;32m---> 70\u001b[0m     \u001b[38;5;28;01mraise\u001b[39;00m e\u001b[38;5;241m.\u001b[39mwith_traceback(filtered_tb) \u001b[38;5;28;01mfrom\u001b[39;00m \u001b[38;5;28;01mNone\u001b[39;00m\n\u001b[1;32m     71\u001b[0m \u001b[38;5;28;01mfinally\u001b[39;00m:\n\u001b[1;32m     72\u001b[0m     \u001b[38;5;28;01mdel\u001b[39;00m filtered_tb\n",
      "File \u001b[0;32m~/Github/gpu-ml/venv/lib/python3.11/site-packages/keras/src/layers/merging/base_merge.py:74\u001b[0m, in \u001b[0;36m_Merge._compute_elemwise_op_output_shape\u001b[0;34m(self, shape1, shape2)\u001b[0m\n\u001b[1;32m     72\u001b[0m     \u001b[38;5;28;01melse\u001b[39;00m:\n\u001b[1;32m     73\u001b[0m         \u001b[38;5;28;01mif\u001b[39;00m i \u001b[38;5;241m!=\u001b[39m j:\n\u001b[0;32m---> 74\u001b[0m             \u001b[38;5;28;01mraise\u001b[39;00m \u001b[38;5;167;01mValueError\u001b[39;00m(\n\u001b[1;32m     75\u001b[0m                 \u001b[38;5;124m\"\u001b[39m\u001b[38;5;124mInputs have incompatible shapes. \u001b[39m\u001b[38;5;124m\"\u001b[39m\n\u001b[1;32m     76\u001b[0m                 \u001b[38;5;124mf\u001b[39m\u001b[38;5;124m\"\u001b[39m\u001b[38;5;124mReceived shapes \u001b[39m\u001b[38;5;132;01m{\u001b[39;00mshape1\u001b[38;5;132;01m}\u001b[39;00m\u001b[38;5;124m and \u001b[39m\u001b[38;5;132;01m{\u001b[39;00mshape2\u001b[38;5;132;01m}\u001b[39;00m\u001b[38;5;124m\"\u001b[39m\n\u001b[1;32m     77\u001b[0m             )\n\u001b[1;32m     78\u001b[0m         output_shape\u001b[38;5;241m.\u001b[39mappend(i)\n\u001b[1;32m     79\u001b[0m \u001b[38;5;28;01mreturn\u001b[39;00m \u001b[38;5;28mtuple\u001b[39m(output_shape)\n",
      "\u001b[0;31mValueError\u001b[0m: Inputs have incompatible shapes. Received shapes (26, 26, 64) and (26, 26, 16)"
     ]
    }
   ],
   "source": [
    "shape_value = train_images.shape[0] # 28x28 -> 784\n",
    "print(shape_value)\n",
    "\n",
    "input = Input(shape=(28,28,1)) # posso creare anche custom objects che userò successivamente senza ripetere tutto.\n",
    "\n",
    "conv_0 = Conv2D(\n",
    "        64, \n",
    "        kernel_size=3, \n",
    "        activation='swish', \n",
    "        input_shape=(28,28,1) # This is the shape of each input image, 28,28,1 with the 1 signifying that the images are greyscale.\n",
    "    )(input)\n",
    "\n",
    "dense_0 = Dense(units=64, activation='relu')(conv_0)\n",
    "\n",
    "residual_0 = Add()([conv_0, dense_0])\n",
    "residual_0 = Activation('relu')(residual_0) # torna indietro con la derivata prima parziale della funzione relu\n",
    "\n",
    "flatten_0 = Flatten()(residual_0)\n",
    "\n",
    "output = Dense(\n",
    "        units=10, \n",
    "        activation='softmax' # Softmax makes the output sum up to 1 so the output can be interpreted as probabilities.\n",
    "    )(flatten_0)\n",
    "\n",
    "\n",
    "model = tf.keras.models.Model(\n",
    "    inputs=[input],\n",
    "    outputs=[output],\n",
    "    name=\"Conv-Test\"\n",
    ")\n",
    "\n",
    "model.summary()\n"
   ]
  },
  {
   "cell_type": "code",
   "execution_count": 26,
   "metadata": {},
   "outputs": [],
   "source": [
    "model.compile(\n",
    "    optimizer=Adam(learning_rate=0.005),\n",
    "    loss='categorical_crossentropy',\n",
    "    metrics=['accuracy']\n",
    ")\n"
   ]
  },
  {
   "cell_type": "code",
   "execution_count": 27,
   "metadata": {},
   "outputs": [
    {
     "name": "stdout",
     "output_type": "stream",
     "text": [
      "Epoch 1/50\n"
     ]
    },
    {
     "name": "stderr",
     "output_type": "stream",
     "text": [
      "2024-01-13 15:55:10.717826: I tensorflow/core/grappler/optimizers/custom_graph_optimizer_registry.cc:117] Plugin optimizer for device_type GPU is enabled.\n"
     ]
    },
    {
     "name": "stdout",
     "output_type": "stream",
     "text": [
      "118/118 [==============================] - 4s 30ms/step - loss: 0.3772 - accuracy: 0.8888 - val_loss: 0.2807 - val_accuracy: 0.9225\n",
      "Epoch 2/50\n",
      "118/118 [==============================] - 3s 29ms/step - loss: 0.2621 - accuracy: 0.9264 - val_loss: 0.2272 - val_accuracy: 0.9350\n",
      "Epoch 3/50\n",
      "118/118 [==============================] - 3s 29ms/step - loss: 0.1659 - accuracy: 0.9533 - val_loss: 0.1431 - val_accuracy: 0.9583\n",
      "Epoch 4/50\n",
      "118/118 [==============================] - 3s 29ms/step - loss: 0.1147 - accuracy: 0.9671 - val_loss: 0.1120 - val_accuracy: 0.9658\n",
      "Epoch 5/50\n",
      "118/118 [==============================] - 3s 28ms/step - loss: 0.0870 - accuracy: 0.9746 - val_loss: 0.0917 - val_accuracy: 0.9722\n",
      "Epoch 6/50\n",
      "118/118 [==============================] - 3s 28ms/step - loss: 0.0702 - accuracy: 0.9797 - val_loss: 0.0897 - val_accuracy: 0.9716\n",
      "Epoch 7/50\n",
      "118/118 [==============================] - 3s 29ms/step - loss: 0.0584 - accuracy: 0.9819 - val_loss: 0.0872 - val_accuracy: 0.9741\n",
      "Epoch 8/50\n",
      "118/118 [==============================] - 3s 29ms/step - loss: 0.0462 - accuracy: 0.9858 - val_loss: 0.0822 - val_accuracy: 0.9738\n",
      "Epoch 9/50\n",
      "118/118 [==============================] - 3s 28ms/step - loss: 0.0392 - accuracy: 0.9881 - val_loss: 0.0969 - val_accuracy: 0.9731\n",
      "Epoch 10/50\n",
      "118/118 [==============================] - 3s 30ms/step - loss: 0.0369 - accuracy: 0.9890 - val_loss: 0.0902 - val_accuracy: 0.9741\n",
      "Epoch 11/50\n",
      "118/118 [==============================] - 3s 30ms/step - loss: 0.0305 - accuracy: 0.9907 - val_loss: 0.0946 - val_accuracy: 0.9739\n",
      "Epoch 12/50\n",
      "118/118 [==============================] - 3s 29ms/step - loss: 0.0261 - accuracy: 0.9920 - val_loss: 0.0981 - val_accuracy: 0.9733\n",
      "Epoch 13/50\n",
      "118/118 [==============================] - 3s 28ms/step - loss: 0.0239 - accuracy: 0.9922 - val_loss: 0.0987 - val_accuracy: 0.9727\n",
      "Epoch 14/50\n",
      "118/118 [==============================] - 3s 29ms/step - loss: 0.0228 - accuracy: 0.9925 - val_loss: 0.1083 - val_accuracy: 0.9723\n",
      "Epoch 15/50\n",
      "118/118 [==============================] - 3s 29ms/step - loss: 0.0197 - accuracy: 0.9938 - val_loss: 0.1053 - val_accuracy: 0.9743\n",
      "Epoch 16/50\n",
      "118/118 [==============================] - 3s 29ms/step - loss: 0.0174 - accuracy: 0.9945 - val_loss: 0.1130 - val_accuracy: 0.9731\n",
      "Epoch 17/50\n",
      "118/118 [==============================] - 4s 30ms/step - loss: 0.0164 - accuracy: 0.9951 - val_loss: 0.1225 - val_accuracy: 0.9697\n",
      "Epoch 18/50\n",
      "118/118 [==============================] - 4s 30ms/step - loss: 0.0158 - accuracy: 0.9948 - val_loss: 0.1267 - val_accuracy: 0.9722\n",
      "Epoch 19/50\n",
      "118/118 [==============================] - 3s 29ms/step - loss: 0.0164 - accuracy: 0.9947 - val_loss: 0.1267 - val_accuracy: 0.9728\n",
      "Epoch 20/50\n",
      "118/118 [==============================] - 3s 29ms/step - loss: 0.0135 - accuracy: 0.9956 - val_loss: 0.1277 - val_accuracy: 0.9723\n",
      "Epoch 21/50\n",
      "118/118 [==============================] - 3s 29ms/step - loss: 0.0113 - accuracy: 0.9964 - val_loss: 0.1243 - val_accuracy: 0.9721\n",
      "Epoch 22/50\n",
      "118/118 [==============================] - 3s 29ms/step - loss: 0.0104 - accuracy: 0.9967 - val_loss: 0.1259 - val_accuracy: 0.9735\n",
      "Epoch 23/50\n",
      "118/118 [==============================] - 3s 29ms/step - loss: 0.0091 - accuracy: 0.9972 - val_loss: 0.1318 - val_accuracy: 0.9721\n",
      "Epoch 24/50\n",
      "118/118 [==============================] - 4s 31ms/step - loss: 0.0086 - accuracy: 0.9976 - val_loss: 0.1375 - val_accuracy: 0.9726\n",
      "Epoch 25/50\n",
      "118/118 [==============================] - 3s 29ms/step - loss: 0.0076 - accuracy: 0.9979 - val_loss: 0.1380 - val_accuracy: 0.9738\n",
      "Epoch 26/50\n",
      "118/118 [==============================] - 3s 29ms/step - loss: 0.0070 - accuracy: 0.9981 - val_loss: 0.1402 - val_accuracy: 0.9715\n",
      "Epoch 27/50\n",
      "118/118 [==============================] - 3s 28ms/step - loss: 0.0078 - accuracy: 0.9976 - val_loss: 0.1539 - val_accuracy: 0.9716\n",
      "Epoch 28/50\n",
      "118/118 [==============================] - 3s 29ms/step - loss: 0.0094 - accuracy: 0.9969 - val_loss: 0.1600 - val_accuracy: 0.9701\n",
      "Epoch 29/50\n",
      "118/118 [==============================] - 3s 29ms/step - loss: 0.0084 - accuracy: 0.9973 - val_loss: 0.1513 - val_accuracy: 0.9727\n",
      "Epoch 30/50\n",
      "118/118 [==============================] - 3s 29ms/step - loss: 0.0071 - accuracy: 0.9976 - val_loss: 0.1544 - val_accuracy: 0.9730\n",
      "Epoch 31/50\n",
      "118/118 [==============================] - 3s 29ms/step - loss: 0.0108 - accuracy: 0.9963 - val_loss: 0.1923 - val_accuracy: 0.9681\n",
      "Epoch 32/50\n",
      "118/118 [==============================] - 3s 30ms/step - loss: 0.0127 - accuracy: 0.9954 - val_loss: 0.1747 - val_accuracy: 0.9683\n",
      "Epoch 33/50\n",
      "118/118 [==============================] - 4s 30ms/step - loss: 0.0127 - accuracy: 0.9953 - val_loss: 0.1812 - val_accuracy: 0.9723\n",
      "Epoch 34/50\n",
      "118/118 [==============================] - 3s 29ms/step - loss: 0.0179 - accuracy: 0.9937 - val_loss: 0.1683 - val_accuracy: 0.9716\n",
      "Epoch 35/50\n",
      "118/118 [==============================] - 3s 28ms/step - loss: 0.0088 - accuracy: 0.9970 - val_loss: 0.1719 - val_accuracy: 0.9723\n",
      "Epoch 36/50\n",
      "118/118 [==============================] - 3s 29ms/step - loss: 0.0048 - accuracy: 0.9986 - val_loss: 0.1594 - val_accuracy: 0.9739\n",
      "Epoch 37/50\n",
      "118/118 [==============================] - 3s 29ms/step - loss: 0.0032 - accuracy: 0.9991 - val_loss: 0.1654 - val_accuracy: 0.9736\n",
      "Epoch 38/50\n",
      "118/118 [==============================] - 4s 30ms/step - loss: 0.0016 - accuracy: 0.9997 - val_loss: 0.1697 - val_accuracy: 0.9742\n",
      "Epoch 39/50\n",
      "118/118 [==============================] - 3s 29ms/step - loss: 0.0013 - accuracy: 0.9997 - val_loss: 0.1639 - val_accuracy: 0.9751\n",
      "Epoch 40/50\n",
      "118/118 [==============================] - 3s 28ms/step - loss: 6.3846e-04 - accuracy: 1.0000 - val_loss: 0.1656 - val_accuracy: 0.9746\n",
      "Epoch 41/50\n",
      "118/118 [==============================] - 3s 28ms/step - loss: 4.1455e-04 - accuracy: 1.0000 - val_loss: 0.1683 - val_accuracy: 0.9750\n",
      "Epoch 42/50\n",
      "118/118 [==============================] - 3s 29ms/step - loss: 3.4407e-04 - accuracy: 1.0000 - val_loss: 0.1694 - val_accuracy: 0.9749\n",
      "Epoch 43/50\n",
      "118/118 [==============================] - 4s 30ms/step - loss: 3.0372e-04 - accuracy: 1.0000 - val_loss: 0.1707 - val_accuracy: 0.9748\n",
      "Epoch 44/50\n",
      "118/118 [==============================] - 3s 28ms/step - loss: 2.7466e-04 - accuracy: 1.0000 - val_loss: 0.1728 - val_accuracy: 0.9749\n",
      "Epoch 45/50\n",
      "118/118 [==============================] - 3s 29ms/step - loss: 2.5342e-04 - accuracy: 1.0000 - val_loss: 0.1744 - val_accuracy: 0.9752\n",
      "Epoch 46/50\n",
      "118/118 [==============================] - 3s 28ms/step - loss: 2.3675e-04 - accuracy: 1.0000 - val_loss: 0.1758 - val_accuracy: 0.9751\n",
      "Epoch 47/50\n",
      "118/118 [==============================] - 3s 29ms/step - loss: 2.2167e-04 - accuracy: 1.0000 - val_loss: 0.1765 - val_accuracy: 0.9750\n",
      "Epoch 48/50\n",
      "118/118 [==============================] - 3s 28ms/step - loss: 2.1077e-04 - accuracy: 1.0000 - val_loss: 0.1773 - val_accuracy: 0.9754\n",
      "Epoch 49/50\n",
      "118/118 [==============================] - 3s 29ms/step - loss: 2.0096e-04 - accuracy: 1.0000 - val_loss: 0.1806 - val_accuracy: 0.9749\n",
      "Epoch 50/50\n",
      "118/118 [==============================] - 3s 29ms/step - loss: 1.8679e-04 - accuracy: 1.0000 - val_loss: 0.1802 - val_accuracy: 0.9755\n"
     ]
    }
   ],
   "source": [
    "history_res = model.fit(\n",
    "    x=train_images,\n",
    "    y=train_labels,\n",
    "    epochs=50,\n",
    "    batch_size=512,\n",
    "    validation_data=(\n",
    "        test_images,\n",
    "        test_labels\n",
    "    )\n",
    ")"
   ]
  },
  {
   "cell_type": "code",
   "execution_count": null,
   "metadata": {},
   "outputs": [],
   "source": [
    "# Stampe i risultati\n",
    "\n",
    "# errore modello\n",
    "plt.plot(history_res.history['loss'], color='red', label='train')\n",
    "plt.plot(history_res.history['val_loss'], color='blue', label='test')\n",
    "plt.title('Errore ResNet' )\n",
    "plt.legend()\n",
    "plt.show()\n",
    "\n",
    "# Accuratezza del modello\n",
    "plt.plot(history_res.history['accuracy'], color='red', label='train')\n",
    "plt.plot(history_res.history['val_accuracy'], color='blue', label='test')\n",
    "plt.title(\"Accuratezza ResNet\")\n",
    "plt.legend()\n",
    "plt.show()"
   ]
  },
  {
   "cell_type": "code",
   "execution_count": null,
   "metadata": {},
   "outputs": [],
   "source": [
    "evaluations_res = model.evaluate(\n",
    "    test_images,\n",
    "    test_labels\n",
    ")\n",
    "\n",
    "for i in range(0, len(model.metrics_names)):\n",
    "    print(f\"{model.metrics_names[i]} -> {evaluations_res[i]}\")"
   ]
  }
 ],
 "metadata": {
  "kernelspec": {
   "display_name": "venv",
   "language": "python",
   "name": "python3"
  },
  "language_info": {
   "codemirror_mode": {
    "name": "ipython",
    "version": 3
   },
   "file_extension": ".py",
   "mimetype": "text/x-python",
   "name": "python",
   "nbconvert_exporter": "python",
   "pygments_lexer": "ipython3",
   "version": "3.11.6"
  }
 },
 "nbformat": 4,
 "nbformat_minor": 2
}
